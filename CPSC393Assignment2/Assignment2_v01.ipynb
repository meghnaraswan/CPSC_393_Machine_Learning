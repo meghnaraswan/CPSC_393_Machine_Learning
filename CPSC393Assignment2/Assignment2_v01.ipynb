{
 "cells": [
  {
   "cell_type": "code",
   "execution_count": 1,
   "metadata": {},
   "outputs": [],
   "source": [
    "import numpy as np\n",
    "from tensorflow import keras\n",
    "from tensorflow.keras import layers\n",
    "from tensorflow.keras import optimizers\n",
    "from keras.datasets import imdb\n",
    "from keras.datasets import reuters\n",
    "from keras.datasets import boston_housing\n",
    "from keras import models\n",
    "from keras import layers\n",
    "from keras import optimizers\n",
    "from keras.optimizer_v2 import rmsprop as rmsprop_v2\n",
    "from tensorflow import keras\n",
    "from keras import optimizers\n",
    "from keras import losses\n",
    "from keras import metrics\n",
    "import matplotlib.pyplot as plt\n",
    "# optimizer=keras.optimizers.RMSprop(learning_rate=0.01)"
   ]
  },
  {
   "cell_type": "markdown",
   "metadata": {},
   "source": [
    "## Classifying movie reviews: a binary classification example\n",
    "### The IMDB dataset"
   ]
  },
  {
   "cell_type": "code",
   "execution_count": 2,
   "metadata": {},
   "outputs": [],
   "source": [
    "# Loading the IMDB dataset\n",
    "# IMDB dataset: a set of 50,000 highly polarized reviews from the\n",
    "    # Internet Movie Database. They’re split into 25,000 reviews for training and 25,000\n",
    "    # reviews for testing, each set consisting of 50% negative and 50% positive reviews\n",
    "# Argument num_words = 10000 means we will only keep the top 10,000 most frequently occurring words in the training data. \n",
    "    # Rare words will be discarded. \n",
    "    # This allows us to work with vector data of manageable size.\n",
    "# train_labels and test_labels are lists of 0s and 1s, \n",
    "    # 0: negative\n",
    "    # 1: positive:\n",
    "(train_data, train_labels), (test_data, test_labels) = imdb.load_data(num_words=10000)"
   ]
  },
  {
   "cell_type": "code",
   "execution_count": 3,
   "metadata": {},
   "outputs": [
    {
     "data": {
      "text/plain": [
       "[1,\n",
       " 14,\n",
       " 22,\n",
       " 16,\n",
       " 43,\n",
       " 530,\n",
       " 973,\n",
       " 1622,\n",
       " 1385,\n",
       " 65,\n",
       " 458,\n",
       " 4468,\n",
       " 66,\n",
       " 3941,\n",
       " 4,\n",
       " 173,\n",
       " 36,\n",
       " 256,\n",
       " 5,\n",
       " 25,\n",
       " 100,\n",
       " 43,\n",
       " 838,\n",
       " 112,\n",
       " 50,\n",
       " 670,\n",
       " 2,\n",
       " 9,\n",
       " 35,\n",
       " 480,\n",
       " 284,\n",
       " 5,\n",
       " 150,\n",
       " 4,\n",
       " 172,\n",
       " 112,\n",
       " 167,\n",
       " 2,\n",
       " 336,\n",
       " 385,\n",
       " 39,\n",
       " 4,\n",
       " 172,\n",
       " 4536,\n",
       " 1111,\n",
       " 17,\n",
       " 546,\n",
       " 38,\n",
       " 13,\n",
       " 447,\n",
       " 4,\n",
       " 192,\n",
       " 50,\n",
       " 16,\n",
       " 6,\n",
       " 147,\n",
       " 2025,\n",
       " 19,\n",
       " 14,\n",
       " 22,\n",
       " 4,\n",
       " 1920,\n",
       " 4613,\n",
       " 469,\n",
       " 4,\n",
       " 22,\n",
       " 71,\n",
       " 87,\n",
       " 12,\n",
       " 16,\n",
       " 43,\n",
       " 530,\n",
       " 38,\n",
       " 76,\n",
       " 15,\n",
       " 13,\n",
       " 1247,\n",
       " 4,\n",
       " 22,\n",
       " 17,\n",
       " 515,\n",
       " 17,\n",
       " 12,\n",
       " 16,\n",
       " 626,\n",
       " 18,\n",
       " 2,\n",
       " 5,\n",
       " 62,\n",
       " 386,\n",
       " 12,\n",
       " 8,\n",
       " 316,\n",
       " 8,\n",
       " 106,\n",
       " 5,\n",
       " 4,\n",
       " 2223,\n",
       " 5244,\n",
       " 16,\n",
       " 480,\n",
       " 66,\n",
       " 3785,\n",
       " 33,\n",
       " 4,\n",
       " 130,\n",
       " 12,\n",
       " 16,\n",
       " 38,\n",
       " 619,\n",
       " 5,\n",
       " 25,\n",
       " 124,\n",
       " 51,\n",
       " 36,\n",
       " 135,\n",
       " 48,\n",
       " 25,\n",
       " 1415,\n",
       " 33,\n",
       " 6,\n",
       " 22,\n",
       " 12,\n",
       " 215,\n",
       " 28,\n",
       " 77,\n",
       " 52,\n",
       " 5,\n",
       " 14,\n",
       " 407,\n",
       " 16,\n",
       " 82,\n",
       " 2,\n",
       " 8,\n",
       " 4,\n",
       " 107,\n",
       " 117,\n",
       " 5952,\n",
       " 15,\n",
       " 256,\n",
       " 4,\n",
       " 2,\n",
       " 7,\n",
       " 3766,\n",
       " 5,\n",
       " 723,\n",
       " 36,\n",
       " 71,\n",
       " 43,\n",
       " 530,\n",
       " 476,\n",
       " 26,\n",
       " 400,\n",
       " 317,\n",
       " 46,\n",
       " 7,\n",
       " 4,\n",
       " 2,\n",
       " 1029,\n",
       " 13,\n",
       " 104,\n",
       " 88,\n",
       " 4,\n",
       " 381,\n",
       " 15,\n",
       " 297,\n",
       " 98,\n",
       " 32,\n",
       " 2071,\n",
       " 56,\n",
       " 26,\n",
       " 141,\n",
       " 6,\n",
       " 194,\n",
       " 7486,\n",
       " 18,\n",
       " 4,\n",
       " 226,\n",
       " 22,\n",
       " 21,\n",
       " 134,\n",
       " 476,\n",
       " 26,\n",
       " 480,\n",
       " 5,\n",
       " 144,\n",
       " 30,\n",
       " 5535,\n",
       " 18,\n",
       " 51,\n",
       " 36,\n",
       " 28,\n",
       " 224,\n",
       " 92,\n",
       " 25,\n",
       " 104,\n",
       " 4,\n",
       " 226,\n",
       " 65,\n",
       " 16,\n",
       " 38,\n",
       " 1334,\n",
       " 88,\n",
       " 12,\n",
       " 16,\n",
       " 283,\n",
       " 5,\n",
       " 16,\n",
       " 4472,\n",
       " 113,\n",
       " 103,\n",
       " 32,\n",
       " 15,\n",
       " 16,\n",
       " 5345,\n",
       " 19,\n",
       " 178,\n",
       " 32]"
      ]
     },
     "execution_count": 3,
     "metadata": {},
     "output_type": "execute_result"
    }
   ],
   "source": [
    "train_data[0]"
   ]
  },
  {
   "cell_type": "code",
   "execution_count": 4,
   "metadata": {},
   "outputs": [
    {
     "data": {
      "text/plain": [
       "1"
      ]
     },
     "execution_count": 4,
     "metadata": {},
     "output_type": "execute_result"
    }
   ],
   "source": [
    "train_labels[0]"
   ]
  },
  {
   "cell_type": "code",
   "execution_count": 5,
   "metadata": {},
   "outputs": [
    {
     "data": {
      "text/plain": [
       "9999"
      ]
     },
     "execution_count": 5,
     "metadata": {},
     "output_type": "execute_result"
    }
   ],
   "source": [
    "# Because we are restricting ourselves to the top 10,000 most frequent words, \n",
    "    # no word index will exceed 10,000:\n",
    "max([max(sequence) for sequence in train_data])"
   ]
  },
  {
   "cell_type": "code",
   "execution_count": 28,
   "metadata": {},
   "outputs": [],
   "source": [
    "# # For fun, decode one of these reviews back to English words:\n",
    "# word_index = imdb.get_word_index() # Reverses it, mapping integer indices to words\n",
    "# reverse_word_index = dict([(value, key) for (key, value) in word_index.items()]) # word_index is a dictionary mapping words to an integer index.\n",
    "# decoded_review = ' '.join([reverse_word_index.get(i - 3, '?') for i in train_data[0]]) # decodes review"
   ]
  },
  {
   "cell_type": "code",
   "execution_count": 6,
   "metadata": {},
   "outputs": [],
   "source": [
    "# Encoding the integer sequences into a binary matrix\n",
    "    # can’t feed lists of integers into a neural network, so we turn the lists into tensors by:\n",
    "        # Pad the lists so that they all have the same length, turn them into an integer \n",
    "            # tensor of shape (samples, word_indices), and then use as the first layer in\n",
    "            # the network a layer capable of handling such integer tensors \n",
    "        # One-hot encode the lists to turn them into vectors of 0s and 1s. Then we could use as the \n",
    "            # first layer in the network a Dense layer, capable of handling floating-point vector data\n",
    "    # we will go with second option to vectorize the data\n",
    "def vectorize_sequences(sequences, dimension=10000): \n",
    "    results = np.zeros((len(sequences), dimension)) # Creates an all-zero matrix of shape (len(sequences), dimension)\n",
    "    for i, sequence in enumerate(sequences): # Sets specific indices of results[i] to 1s\n",
    "        results[i, sequence] = 1.\n",
    "    return results\n",
    "x_train = vectorize_sequences(train_data) # Vectorized training data\n",
    "x_test = vectorize_sequences(test_data) # Vectorized test data"
   ]
  },
  {
   "cell_type": "code",
   "execution_count": 7,
   "metadata": {},
   "outputs": [
    {
     "data": {
      "text/plain": [
       "array([0., 1., 1., ..., 0., 0., 0.])"
      ]
     },
     "execution_count": 7,
     "metadata": {},
     "output_type": "execute_result"
    }
   ],
   "source": [
    "x_train[0]"
   ]
  },
  {
   "cell_type": "code",
   "execution_count": 8,
   "metadata": {},
   "outputs": [],
   "source": [
    "# vectorize the labels\n",
    "y_train = np.asarray(train_labels).astype('float32')\n",
    "y_test = np.asarray(test_labels).astype('float32')"
   ]
  },
  {
   "cell_type": "code",
   "execution_count": 9,
   "metadata": {},
   "outputs": [
    {
     "name": "stderr",
     "output_type": "stream",
     "text": [
      "2022-03-03 22:09:41.772711: I tensorflow/core/platform/cpu_feature_guard.cc:151] This TensorFlow binary is optimized with oneAPI Deep Neural Network Library (oneDNN) to use the following CPU instructions in performance-critical operations:  AVX2 FMA\n",
      "To enable them in other operations, rebuild TensorFlow with the appropriate compiler flags.\n"
     ]
    }
   ],
   "source": [
    "model = models.Sequential()\n",
    "model.add(layers.Dense(16, activation='relu', input_shape=(10000,)))\n",
    "model.add(layers.Dense(16, activation='relu'))\n",
    "model.add(layers.Dense(1, activation='sigmoid'))"
   ]
  },
  {
   "cell_type": "code",
   "execution_count": 10,
   "metadata": {},
   "outputs": [],
   "source": [
    "# Compiling the model\n",
    "model.compile(optimizer='rmsprop', loss='binary_crossentropy', metrics=['accuracy'])"
   ]
  },
  {
   "cell_type": "code",
   "execution_count": 11,
   "metadata": {},
   "outputs": [],
   "source": [
    "# Configuring the optimizer\n",
    "# optimizer=keras.optimizers.RMSprop(learning_rate=0.01)\n",
    "model.compile(optimizer=keras.optimizers.RMSprop(learning_rate=0.001), loss='binary_crossentropy', metrics=['accuracy'])"
   ]
  },
  {
   "cell_type": "code",
   "execution_count": 12,
   "metadata": {},
   "outputs": [],
   "source": [
    "# Using custom losses and metrics\n",
    "model.compile(optimizer=keras.optimizers.RMSprop(learning_rate=0.001), loss=keras.losses.binary_crossentropy, metrics=[keras.metrics.binary_accuracy])"
   ]
  },
  {
   "cell_type": "code",
   "execution_count": 13,
   "metadata": {},
   "outputs": [],
   "source": [
    "# Setting aside a validation set\n",
    "x_val = x_train[:10000]\n",
    "partial_x_train = x_train[10000:]\n",
    "y_val = y_train[:10000]\n",
    "partial_y_train = y_train[10000:]"
   ]
  },
  {
   "cell_type": "code",
   "execution_count": 14,
   "metadata": {},
   "outputs": [
    {
     "name": "stdout",
     "output_type": "stream",
     "text": [
      "Epoch 1/20\n",
      "30/30 [==============================] - 7s 161ms/step - loss: 0.5140 - acc: 0.7833 - val_loss: 0.3831 - val_acc: 0.8687\n",
      "Epoch 2/20\n",
      "30/30 [==============================] - 1s 37ms/step - loss: 0.3000 - acc: 0.9015 - val_loss: 0.3028 - val_acc: 0.8862\n",
      "Epoch 3/20\n",
      "30/30 [==============================] - 1s 39ms/step - loss: 0.2177 - acc: 0.9283 - val_loss: 0.2828 - val_acc: 0.8874\n",
      "Epoch 4/20\n",
      "30/30 [==============================] - 1s 33ms/step - loss: 0.1697 - acc: 0.9464 - val_loss: 0.3289 - val_acc: 0.8681\n",
      "Epoch 5/20\n",
      "30/30 [==============================] - 1s 44ms/step - loss: 0.1403 - acc: 0.9552 - val_loss: 0.2882 - val_acc: 0.8853\n",
      "Epoch 6/20\n",
      "30/30 [==============================] - 1s 45ms/step - loss: 0.1142 - acc: 0.9649 - val_loss: 0.2959 - val_acc: 0.8852\n",
      "Epoch 7/20\n",
      "30/30 [==============================] - 1s 34ms/step - loss: 0.0939 - acc: 0.9729 - val_loss: 0.3188 - val_acc: 0.8802\n",
      "Epoch 8/20\n",
      "30/30 [==============================] - 1s 34ms/step - loss: 0.0772 - acc: 0.9782 - val_loss: 0.3362 - val_acc: 0.8808\n",
      "Epoch 9/20\n",
      "30/30 [==============================] - 1s 39ms/step - loss: 0.0609 - acc: 0.9841 - val_loss: 0.3679 - val_acc: 0.8774\n",
      "Epoch 10/20\n",
      "30/30 [==============================] - 1s 34ms/step - loss: 0.0534 - acc: 0.9867 - val_loss: 0.3854 - val_acc: 0.8765\n",
      "Epoch 11/20\n",
      "30/30 [==============================] - 1s 34ms/step - loss: 0.0382 - acc: 0.9923 - val_loss: 0.4307 - val_acc: 0.8705\n",
      "Epoch 12/20\n",
      "30/30 [==============================] - 1s 36ms/step - loss: 0.0330 - acc: 0.9927 - val_loss: 0.4440 - val_acc: 0.8731\n",
      "Epoch 13/20\n",
      "30/30 [==============================] - 1s 33ms/step - loss: 0.0238 - acc: 0.9957 - val_loss: 0.4744 - val_acc: 0.8724\n",
      "Epoch 14/20\n",
      "30/30 [==============================] - 1s 49ms/step - loss: 0.0189 - acc: 0.9974 - val_loss: 0.5083 - val_acc: 0.8696\n",
      "Epoch 15/20\n",
      "30/30 [==============================] - 1s 44ms/step - loss: 0.0177 - acc: 0.9965 - val_loss: 0.5453 - val_acc: 0.8683\n",
      "Epoch 16/20\n",
      "30/30 [==============================] - 1s 39ms/step - loss: 0.0083 - acc: 0.9996 - val_loss: 0.5775 - val_acc: 0.8680\n",
      "Epoch 17/20\n",
      "30/30 [==============================] - 1s 34ms/step - loss: 0.0126 - acc: 0.9969 - val_loss: 0.6089 - val_acc: 0.8677\n",
      "Epoch 18/20\n",
      "30/30 [==============================] - 1s 38ms/step - loss: 0.0050 - acc: 0.9997 - val_loss: 0.6552 - val_acc: 0.8641\n",
      "Epoch 19/20\n",
      "30/30 [==============================] - 1s 38ms/step - loss: 0.0084 - acc: 0.9983 - val_loss: 0.6730 - val_acc: 0.8681\n",
      "Epoch 20/20\n",
      "30/30 [==============================] - 2s 54ms/step - loss: 0.0026 - acc: 0.9999 - val_loss: 0.6983 - val_acc: 0.8679\n"
     ]
    }
   ],
   "source": [
    "# model for 20 epochs (20 iterations over all samples in the x_train and y_train tensors), \n",
    "    # in mini-batches of 512 samples. At the same time, monitor loss and accuracy on the 10,000 \n",
    "    # samples that we set apart by passing the validation data as the validation_data argument.\n",
    "# training model\n",
    "model.compile(optimizer='rmsprop', loss='binary_crossentropy', metrics=['acc'])\n",
    "history = model.fit(partial_x_train, partial_y_train, epochs=20, batch_size=512, validation_data=(x_val, y_val))"
   ]
  },
  {
   "cell_type": "code",
   "execution_count": 15,
   "metadata": {},
   "outputs": [
    {
     "data": {
      "text/plain": [
       "dict_keys(['loss', 'acc', 'val_loss', 'val_acc'])"
      ]
     },
     "execution_count": 15,
     "metadata": {},
     "output_type": "execute_result"
    }
   ],
   "source": [
    "# the call to model.fit() returns a History object. This object has a member history, \n",
    "    # which is a dictionary containing data about everything that happened during training\n",
    "history_dict = history.history\n",
    "history_dict.keys()"
   ]
  },
  {
   "cell_type": "code",
   "execution_count": 16,
   "metadata": {},
   "outputs": [
    {
     "data": {
      "image/png": "[encoded data removed]",
      "text/plain": [
       "<Figure size 432x288 with 1 Axes>"
      ]
     },
     "metadata": {
      "needs_background": "light"
     },
     "output_type": "display_data"
    }
   ],
   "source": [
    "# Plotting the training and validation loss\n",
    "history_dict = history.history\n",
    "acc_values = history_dict['acc']\n",
    "loss_values = history_dict['loss']\n",
    "val_loss_values = history_dict['val_loss']\n",
    "epochs = range(1, len(acc_values) + 1)\n",
    "plt.plot(epochs, loss_values, 'bo', label='Training loss') # “bo” is for “blue dot.”\n",
    "plt.plot(epochs, val_loss_values, 'b', label='Validation loss') # “b” is for “solid blue line.”\n",
    "plt.title('Training and validation loss')\n",
    "plt.xlabel('Epochs')\n",
    "plt.ylabel('Loss')\n",
    "plt.legend()\n",
    "plt.show()\n",
    "# training loss decreases with every epoch,"
   ]
  },
  {
   "cell_type": "code",
   "execution_count": 17,
   "metadata": {},
   "outputs": [
    {
     "data": {
      "image/png": "[encoded data removed]",
      "text/plain": [
       "<Figure size 432x288 with 1 Axes>"
      ]
     },
     "metadata": {
      "needs_background": "light"
     },
     "output_type": "display_data"
    }
   ],
   "source": [
    "# Plotting the training and validation accuracy\n",
    "plt.clf() # Clears the figure\n",
    "acc_values = history_dict['acc']\n",
    "val_acc_values = history_dict['val_acc']\n",
    "plt.plot(epochs, acc_values, 'bo', label='Training acc')\n",
    "plt.plot(epochs, val_acc_values, 'b', label='Validation acc')\n",
    "plt.title('Training and validation accuracy')\n",
    "plt.xlabel('Epochs')\n",
    "plt.ylabel('Loss')\n",
    "plt.legend()\n",
    "plt.show()\n",
    "# training accuracy increases with every epoch\n",
    "# That’s what you would expect when running gradient descent optimization—the quantity you’re trying to \n",
    "    # minimize should be less with every iteration\n",
    "# overfitting: model that performs better on the training data isn’t necessarily a model that will do\n",
    "    # better on data it has never seen before"
   ]
  },
  {
   "cell_type": "code",
   "execution_count": 18,
   "metadata": {},
   "outputs": [
    {
     "name": "stdout",
     "output_type": "stream",
     "text": [
      "Epoch 1/4\n",
      "49/49 [==============================] - 5s 47ms/step - loss: 0.4578 - accuracy: 0.8236\n",
      "Epoch 2/4\n",
      "49/49 [==============================] - 2s 39ms/step - loss: 0.2628 - accuracy: 0.9074\n",
      "Epoch 3/4\n",
      "49/49 [==============================] - 1s 30ms/step - loss: 0.2012 - accuracy: 0.9293\n",
      "Epoch 4/4\n",
      "49/49 [==============================] - 2s 31ms/step - loss: 0.1661 - accuracy: 0.9418\n",
      "782/782 [==============================] - 6s 7ms/step - loss: 0.2936 - accuracy: 0.8849\n"
     ]
    }
   ],
   "source": [
    "# we want to prevent overfitting, so we will train a new network from scratch for four epochs \n",
    "    # and then evaluate it on the test data\n",
    "# Retraining a model from scratch\n",
    "model = models.Sequential()\n",
    "model.add(layers.Dense(16, activation='relu', input_shape=(10000,)))\n",
    "model.add(layers.Dense(16, activation='relu'))\n",
    "model.add(layers.Dense(1, activation='sigmoid'))\n",
    "model.compile(optimizer='rmsprop', loss='binary_crossentropy', metrics=['accuracy'])\n",
    "model.fit(x_train, y_train, epochs=4, batch_size=512)\n",
    "results = model.evaluate(x_test, y_test)"
   ]
  },
  {
   "cell_type": "code",
   "execution_count": 56,
   "metadata": {},
   "outputs": [
    {
     "data": {
      "text/plain": [
       "[0.2932710647583008, 0.8831999897956848]"
      ]
     },
     "execution_count": 56,
     "metadata": {},
     "output_type": "execute_result"
    }
   ],
   "source": [
    "# This naive approach achieves an accuracy of 88%\n",
    "results"
   ]
  },
  {
   "cell_type": "code",
   "execution_count": 57,
   "metadata": {},
   "outputs": [
    {
     "data": {
      "text/plain": [
       "array([[0.25253186],\n",
       "       [0.99951303],\n",
       "       [0.95530427],\n",
       "       ...,\n",
       "       [0.12318385],\n",
       "       [0.09822321],\n",
       "       [0.722928  ]], dtype=float32)"
      ]
     },
     "execution_count": 57,
     "metadata": {},
     "output_type": "execute_result"
    }
   ],
   "source": [
    "# network is confident for some samples (0.99 or more, or 0.09 or\n",
    "    # less) but less confident for others (0.7)\n",
    "model.predict(x_test)"
   ]
  },
  {
   "cell_type": "code",
   "execution_count": 58,
   "metadata": {},
   "outputs": [
    {
     "name": "stdout",
     "output_type": "stream",
     "text": [
      "Epoch 1/4\n",
      "49/49 [==============================] - 5s 46ms/step - loss: 0.1292 - accuracy: 0.8336\n",
      "Epoch 2/4\n",
      "49/49 [==============================] - 2s 31ms/step - loss: 0.0663 - accuracy: 0.9158\n",
      "Epoch 3/4\n",
      "49/49 [==============================] - 1s 29ms/step - loss: 0.0502 - accuracy: 0.9361\n",
      "Epoch 4/4\n",
      "49/49 [==============================] - 2s 32ms/step - loss: 0.0418 - accuracy: 0.9485\n",
      "782/782 [==============================] - 6s 7ms/step - loss: 0.1035 - accuracy: 0.8659\n"
     ]
    }
   ],
   "source": [
    "# we want to prevent overfitting, so we will train a new network from scratch for four epochs \n",
    "    # and then evaluate it on the test data\n",
    "# Retraining a model from scratch\n",
    "model = models.Sequential()\n",
    "model.add(layers.Dense(16, activation='tanh', input_shape=(10000,)))\n",
    "model.add(layers.Dense(16, activation='tanh'))\n",
    "model.add(layers.Dense(1, activation='sigmoid'))\n",
    "model.compile(optimizer='rmsprop', loss='mse', metrics=['accuracy'])\n",
    "model.fit(x_train, y_train, epochs=4, batch_size=512)\n",
    "results = model.evaluate(x_test, y_test)"
   ]
  },
  {
   "cell_type": "markdown",
   "metadata": {},
   "source": [
    "## Classifying newswires: a multiclass classification example\n",
    "### The Reuters dataset"
   ]
  },
  {
   "cell_type": "code",
   "execution_count": 60,
   "metadata": {},
   "outputs": [
    {
     "name": "stdout",
     "output_type": "stream",
     "text": [
      "Downloading data from https://storage.googleapis.com/tensorflow/tf-keras-datasets/reuters.npz\n",
      "2113536/2110848 [==============================] - 0s 0us/step\n",
      "2121728/2110848 [==============================] - 0s 0us/step\n"
     ]
    }
   ],
   "source": [
    "# Reuters dataset: a set of short newswires and their topics, published by Reuters in 1986.\n",
    "(train_data, train_labels), (test_data, test_labels) = reuters.load_data(num_words=10000)"
   ]
  },
  {
   "cell_type": "code",
   "execution_count": 61,
   "metadata": {},
   "outputs": [
    {
     "data": {
      "text/plain": [
       "8982"
      ]
     },
     "execution_count": 61,
     "metadata": {},
     "output_type": "execute_result"
    }
   ],
   "source": [
    "#  8982 training example\n",
    "len(train_data)"
   ]
  },
  {
   "cell_type": "code",
   "execution_count": 62,
   "metadata": {},
   "outputs": [
    {
     "data": {
      "text/plain": [
       "2246"
      ]
     },
     "execution_count": 62,
     "metadata": {},
     "output_type": "execute_result"
    }
   ],
   "source": [
    "# 2246 test examples\n",
    "len(test_data)"
   ]
  },
  {
   "cell_type": "code",
   "execution_count": 63,
   "metadata": {},
   "outputs": [
    {
     "data": {
      "text/plain": [
       "[1,\n",
       " 245,\n",
       " 273,\n",
       " 207,\n",
       " 156,\n",
       " 53,\n",
       " 74,\n",
       " 160,\n",
       " 26,\n",
       " 14,\n",
       " 46,\n",
       " 296,\n",
       " 26,\n",
       " 39,\n",
       " 74,\n",
       " 2979,\n",
       " 3554,\n",
       " 14,\n",
       " 46,\n",
       " 4689,\n",
       " 4329,\n",
       " 86,\n",
       " 61,\n",
       " 3499,\n",
       " 4795,\n",
       " 14,\n",
       " 61,\n",
       " 451,\n",
       " 4329,\n",
       " 17,\n",
       " 12]"
      ]
     },
     "execution_count": 63,
     "metadata": {},
     "output_type": "execute_result"
    }
   ],
   "source": [
    "train_data[10]"
   ]
  },
  {
   "cell_type": "code",
   "execution_count": 64,
   "metadata": {},
   "outputs": [
    {
     "name": "stdout",
     "output_type": "stream",
     "text": [
      "Downloading data from https://storage.googleapis.com/tensorflow/tf-keras-datasets/reuters_word_index.json\n",
      "557056/550378 [==============================] - 0s 0us/step\n",
      "565248/550378 [==============================] - 0s 0us/step\n"
     ]
    }
   ],
   "source": [
    "# Decoding newswires back to text\n",
    "word_index = reuters.get_word_index()\n",
    "reverse_word_index = dict([(value, key) for (key, value) in word_index.items()])\n",
    "decoded_newswire = ' '.join([reverse_word_index.get(i - 3, '?') for i in train_data[0]])"
   ]
  },
  {
   "cell_type": "code",
   "execution_count": 65,
   "metadata": {},
   "outputs": [],
   "source": [
    "# Vectorize/Encoding the data\n",
    "# cast the label list as an integer tensor\n",
    "def vectorize_sequences(sequences, dimension=10000):\n",
    "    results = np.zeros((len(sequences), dimension))\n",
    "    for i, sequence in enumerate(sequences):\n",
    "        results[i, sequence] = 1.\n",
    "    return results\n",
    "x_train = vectorize_sequences(train_data) # Vectorized training data\n",
    "x_test = vectorize_sequences(test_data) # Vectorized testing data"
   ]
  },
  {
   "cell_type": "code",
   "execution_count": 66,
   "metadata": {},
   "outputs": [],
   "source": [
    "# Vectorize/Encoding the data\n",
    "# one-hot encoding (categorical encoding)\n",
    "    # widely used format for categorical data\n",
    "def to_one_hot(labels, dimension=46):\n",
    "    results = np.zeros((len(labels), dimension))\n",
    "    for i, label in enumerate(labels):\n",
    "        results[i, label] = 1.\n",
    "    return results\n",
    "one_hot_train_labels = to_one_hot(train_labels) # Vectorized training data\n",
    "one_hot_test_labels = to_one_hot(test_labels) # Vectorized testing data"
   ]
  },
  {
   "cell_type": "code",
   "execution_count": 67,
   "metadata": {},
   "outputs": [],
   "source": [
    "# Model definition\n",
    "model = models.Sequential()\n",
    "model.add(layers.Dense(64, activation='relu', input_shape=(10000,)))\n",
    "model.add(layers.Dense(64, activation='relu'))\n",
    "model.add(layers.Dense(46, activation='softmax'))"
   ]
  },
  {
   "cell_type": "code",
   "execution_count": 68,
   "metadata": {},
   "outputs": [],
   "source": [
    "# Compiling the model\n",
    "model.compile(optimizer='rmsprop', loss='categorical_crossentropy', metrics=['accuracy'])"
   ]
  },
  {
   "cell_type": "code",
   "execution_count": 69,
   "metadata": {},
   "outputs": [],
   "source": [
    "# Setting aside a validation set\n",
    "    # Set apart 1000 samples in the training data to use as a validation set\n",
    "x_val = x_train[:1000]\n",
    "partial_x_train = x_train[1000:]\n",
    "y_val = one_hot_train_labels[:1000]\n",
    "partial_y_train = one_hot_train_labels[1000:]"
   ]
  },
  {
   "cell_type": "code",
   "execution_count": 70,
   "metadata": {},
   "outputs": [
    {
     "name": "stdout",
     "output_type": "stream",
     "text": [
      "Epoch 1/20\n",
      "16/16 [==============================] - 5s 135ms/step - loss: 2.5160 - accuracy: 0.5411 - val_loss: 1.6516 - val_accuracy: 0.6450\n",
      "Epoch 2/20\n",
      "16/16 [==============================] - 2s 97ms/step - loss: 1.3707 - accuracy: 0.7126 - val_loss: 1.2716 - val_accuracy: 0.7170\n",
      "Epoch 3/20\n",
      "16/16 [==============================] - 1s 60ms/step - loss: 1.0378 - accuracy: 0.7762 - val_loss: 1.1192 - val_accuracy: 0.7570\n",
      "Epoch 4/20\n",
      "16/16 [==============================] - 1s 66ms/step - loss: 0.8127 - accuracy: 0.8261 - val_loss: 1.0168 - val_accuracy: 0.7910\n",
      "Epoch 5/20\n",
      "16/16 [==============================] - 1s 59ms/step - loss: 0.6472 - accuracy: 0.8631 - val_loss: 0.9736 - val_accuracy: 0.7940\n",
      "Epoch 6/20\n",
      "16/16 [==============================] - 1s 71ms/step - loss: 0.5145 - accuracy: 0.8889 - val_loss: 0.9136 - val_accuracy: 0.8110\n",
      "Epoch 7/20\n",
      "16/16 [==============================] - 1s 88ms/step - loss: 0.4150 - accuracy: 0.9137 - val_loss: 0.8831 - val_accuracy: 0.8170\n",
      "Epoch 8/20\n",
      "16/16 [==============================] - 1s 86ms/step - loss: 0.3329 - accuracy: 0.9271 - val_loss: 0.9147 - val_accuracy: 0.8130\n",
      "Epoch 9/20\n",
      "16/16 [==============================] - 1s 84ms/step - loss: 0.2788 - accuracy: 0.9375 - val_loss: 0.8797 - val_accuracy: 0.8180\n",
      "Epoch 10/20\n",
      "16/16 [==============================] - 1s 94ms/step - loss: 0.2355 - accuracy: 0.9461 - val_loss: 0.9972 - val_accuracy: 0.7880\n",
      "Epoch 11/20\n",
      "16/16 [==============================] - 1s 73ms/step - loss: 0.2066 - accuracy: 0.9503 - val_loss: 0.8907 - val_accuracy: 0.8250\n",
      "Epoch 12/20\n",
      "16/16 [==============================] - 1s 67ms/step - loss: 0.1786 - accuracy: 0.9520 - val_loss: 0.9528 - val_accuracy: 0.8030\n",
      "Epoch 13/20\n",
      "16/16 [==============================] - 1s 64ms/step - loss: 0.1659 - accuracy: 0.9533 - val_loss: 0.9274 - val_accuracy: 0.8160\n",
      "Epoch 14/20\n",
      "16/16 [==============================] - 1s 88ms/step - loss: 0.1494 - accuracy: 0.9549 - val_loss: 0.9554 - val_accuracy: 0.8110\n",
      "Epoch 15/20\n",
      "16/16 [==============================] - 1s 62ms/step - loss: 0.1403 - accuracy: 0.9558 - val_loss: 0.9640 - val_accuracy: 0.8230\n",
      "Epoch 16/20\n",
      "16/16 [==============================] - 1s 72ms/step - loss: 0.1287 - accuracy: 0.9554 - val_loss: 0.9849 - val_accuracy: 0.8060\n",
      "Epoch 17/20\n",
      "16/16 [==============================] - 1s 72ms/step - loss: 0.1241 - accuracy: 0.9559 - val_loss: 1.0604 - val_accuracy: 0.8070\n",
      "Epoch 18/20\n",
      "16/16 [==============================] - 1s 92ms/step - loss: 0.1183 - accuracy: 0.9575 - val_loss: 1.0797 - val_accuracy: 0.7990\n",
      "Epoch 19/20\n",
      "16/16 [==============================] - 1s 61ms/step - loss: 0.1167 - accuracy: 0.9582 - val_loss: 1.0400 - val_accuracy: 0.8060\n",
      "Epoch 20/20\n",
      "16/16 [==============================] - 1s 69ms/step - loss: 0.1087 - accuracy: 0.9585 - val_loss: 1.0384 - val_accuracy: 0.8060\n"
     ]
    }
   ],
   "source": [
    "# Training the model\n",
    "    #  train the network for 20 epochs.\n",
    "history = model.fit(partial_x_train, partial_y_train, epochs=20, batch_size=512, validation_data=(x_val, y_val))"
   ]
  },
  {
   "cell_type": "code",
   "execution_count": 75,
   "metadata": {},
   "outputs": [
    {
     "data": {
      "text/plain": [
       "dict_keys(['loss', 'accuracy', 'val_loss', 'val_accuracy'])"
      ]
     },
     "execution_count": 75,
     "metadata": {},
     "output_type": "execute_result"
    }
   ],
   "source": [
    "# the call to model.fit() returns a History object. This object has a member history, \n",
    "    # which is a dictionary containing data about everything that happened during training\n",
    "history_dict = history.history\n",
    "history_dict.keys()"
   ]
  },
  {
   "cell_type": "code",
   "execution_count": 71,
   "metadata": {},
   "outputs": [
    {
     "data": {
      "image/png": "[encoded data removed]",
      "text/plain": [
       "<Figure size 432x288 with 1 Axes>"
      ]
     },
     "metadata": {
      "needs_background": "light"
     },
     "output_type": "display_data"
    }
   ],
   "source": [
    "# Plotting the training and validation loss\n",
    "loss = history.history['loss']\n",
    "val_loss = history.history['val_loss']\n",
    "epochs = range(1, len(loss) + 1)\n",
    "plt.plot(epochs, loss, 'bo', label='Training loss')\n",
    "plt.plot(epochs, val_loss, 'b', label='Validation loss')\n",
    "plt.title('Training and validation loss')\n",
    "plt.xlabel('Epochs')\n",
    "plt.ylabel('Loss')\n",
    "plt.legend()\n",
    "plt.show()"
   ]
  },
  {
   "cell_type": "code",
   "execution_count": 77,
   "metadata": {},
   "outputs": [
    {
     "data": {
      "image/png": "[encoded data removed]",
      "text/plain": [
       "<Figure size 432x288 with 1 Axes>"
      ]
     },
     "metadata": {
      "needs_background": "light"
     },
     "output_type": "display_data"
    }
   ],
   "source": [
    "# Plotting the training and validation accuracy\n",
    "plt.clf()\n",
    "acc = history.history['accuracy']\n",
    "val_acc = history.history['val_accuracy']\n",
    "plt.plot(epochs, acc, 'bo', label='Training acc')\n",
    "plt.plot(epochs, val_acc, 'b', label='Validation acc')\n",
    "plt.title('Training and validation accuracy')\n",
    "plt.xlabel('Epochs')\n",
    "plt.ylabel('Loss')\n",
    "plt.legend()\n",
    "plt.show()\n",
    "# The network begins to overfit after 9/10 epochs."
   ]
  },
  {
   "cell_type": "code",
   "execution_count": 78,
   "metadata": {},
   "outputs": [
    {
     "name": "stdout",
     "output_type": "stream",
     "text": [
      "Epoch 1/9\n",
      "16/16 [==============================] - 4s 133ms/step - loss: 2.5899 - accuracy: 0.4832 - val_loss: 1.7633 - val_accuracy: 0.6380\n",
      "Epoch 2/9\n",
      "16/16 [==============================] - 1s 65ms/step - loss: 1.4582 - accuracy: 0.7017 - val_loss: 1.3393 - val_accuracy: 0.7150\n",
      "Epoch 3/9\n",
      "16/16 [==============================] - 1s 72ms/step - loss: 1.0883 - accuracy: 0.7632 - val_loss: 1.1377 - val_accuracy: 0.7630\n",
      "Epoch 4/9\n",
      "16/16 [==============================] - 2s 108ms/step - loss: 0.8482 - accuracy: 0.8165 - val_loss: 1.0435 - val_accuracy: 0.7710\n",
      "Epoch 5/9\n",
      "16/16 [==============================] - 2s 116ms/step - loss: 0.6697 - accuracy: 0.8621 - val_loss: 0.9678 - val_accuracy: 0.7950\n",
      "Epoch 6/9\n",
      "16/16 [==============================] - 1s 82ms/step - loss: 0.5379 - accuracy: 0.8914 - val_loss: 0.9208 - val_accuracy: 0.8030\n",
      "Epoch 7/9\n",
      "16/16 [==============================] - 1s 90ms/step - loss: 0.4318 - accuracy: 0.9112 - val_loss: 0.9184 - val_accuracy: 0.8050\n",
      "Epoch 8/9\n",
      "16/16 [==============================] - 1s 62ms/step - loss: 0.3522 - accuracy: 0.9261 - val_loss: 0.9307 - val_accuracy: 0.7980\n",
      "Epoch 9/9\n",
      "16/16 [==============================] - 1s 59ms/step - loss: 0.2898 - accuracy: 0.9382 - val_loss: 0.8718 - val_accuracy: 0.8170\n",
      "71/71 [==============================] - 0s 5ms/step - loss: 0.9959 - accuracy: 0.7934\n"
     ]
    }
   ],
   "source": [
    "# Retraining a model from scratch\n",
    "model = models.Sequential()\n",
    "model.add(layers.Dense(64, activation='relu', input_shape=(10000,)))\n",
    "model.add(layers.Dense(64, activation='relu'))\n",
    "model.add(layers.Dense(46, activation='softmax'))\n",
    "model.compile(optimizer='rmsprop', loss='categorical_crossentropy', metrics=['accuracy'])\n",
    "model.fit(partial_x_train, partial_y_train, epochs=9, batch_size=512, validation_data=(x_val, y_val))\n",
    "results = model.evaluate(x_test, one_hot_test_labels)"
   ]
  },
  {
   "cell_type": "code",
   "execution_count": 79,
   "metadata": {},
   "outputs": [
    {
     "data": {
      "text/plain": [
       "[0.9959371089935303, 0.7934104800224304]"
      ]
     },
     "execution_count": 79,
     "metadata": {},
     "output_type": "execute_result"
    }
   ],
   "source": [
    "results"
   ]
  },
  {
   "cell_type": "code",
   "execution_count": 80,
   "metadata": {},
   "outputs": [],
   "source": [
    "# Generating predictions for new data\n",
    "predictions = model.predict(x_test)"
   ]
  },
  {
   "cell_type": "code",
   "execution_count": 82,
   "metadata": {},
   "outputs": [
    {
     "data": {
      "text/plain": [
       "(46,)"
      ]
     },
     "execution_count": 82,
     "metadata": {},
     "output_type": "execute_result"
    }
   ],
   "source": [
    "# Each entry in predictions is a vector of length 46\n",
    "predictions[0].shape"
   ]
  },
  {
   "cell_type": "code",
   "execution_count": 81,
   "metadata": {},
   "outputs": [
    {
     "data": {
      "text/plain": [
       "0.99999994"
      ]
     },
     "execution_count": 81,
     "metadata": {},
     "output_type": "execute_result"
    }
   ],
   "source": [
    "# The coefficients in this vector sum to 1\n",
    "np.sum(predictions[0])"
   ]
  },
  {
   "cell_type": "code",
   "execution_count": 83,
   "metadata": {},
   "outputs": [
    {
     "data": {
      "text/plain": [
       "3"
      ]
     },
     "execution_count": 83,
     "metadata": {},
     "output_type": "execute_result"
    }
   ],
   "source": [
    "# The largest entry is the predicted class—the class with the highest probability\n",
    "np.argmax(predictions[0])"
   ]
  },
  {
   "cell_type": "code",
   "execution_count": 84,
   "metadata": {},
   "outputs": [
    {
     "name": "stdout",
     "output_type": "stream",
     "text": [
      "Epoch 1/20\n",
      "63/63 [==============================] - 7s 74ms/step - loss: 3.0671 - accuracy: 0.1776 - val_loss: 2.3830 - val_accuracy: 0.3540\n",
      "Epoch 2/20\n",
      "63/63 [==============================] - 2s 37ms/step - loss: 1.8636 - accuracy: 0.6010 - val_loss: 1.5957 - val_accuracy: 0.6580\n",
      "Epoch 3/20\n",
      "63/63 [==============================] - 2s 36ms/step - loss: 1.3814 - accuracy: 0.6921 - val_loss: 1.4382 - val_accuracy: 0.6830\n",
      "Epoch 4/20\n",
      "63/63 [==============================] - 2s 28ms/step - loss: 1.2214 - accuracy: 0.7155 - val_loss: 1.3832 - val_accuracy: 0.6890\n",
      "Epoch 5/20\n",
      "63/63 [==============================] - 2s 26ms/step - loss: 1.1110 - accuracy: 0.7265 - val_loss: 1.3531 - val_accuracy: 0.6980\n",
      "Epoch 6/20\n",
      "63/63 [==============================] - 2s 27ms/step - loss: 1.0174 - accuracy: 0.7425 - val_loss: 1.3340 - val_accuracy: 0.6920\n",
      "Epoch 7/20\n",
      "63/63 [==============================] - 2s 25ms/step - loss: 0.9371 - accuracy: 0.7514 - val_loss: 1.3163 - val_accuracy: 0.6940\n",
      "Epoch 8/20\n",
      "63/63 [==============================] - 2s 24ms/step - loss: 0.8651 - accuracy: 0.7633 - val_loss: 1.3326 - val_accuracy: 0.7010\n",
      "Epoch 9/20\n",
      "63/63 [==============================] - 1s 23ms/step - loss: 0.8009 - accuracy: 0.7848 - val_loss: 1.3620 - val_accuracy: 0.7010\n",
      "Epoch 10/20\n",
      "63/63 [==============================] - 2s 25ms/step - loss: 0.7456 - accuracy: 0.8036 - val_loss: 1.3774 - val_accuracy: 0.7190\n",
      "Epoch 11/20\n",
      "63/63 [==============================] - 2s 27ms/step - loss: 0.6982 - accuracy: 0.8207 - val_loss: 1.4450 - val_accuracy: 0.7120\n",
      "Epoch 12/20\n",
      "63/63 [==============================] - 2s 30ms/step - loss: 0.6554 - accuracy: 0.8294 - val_loss: 1.4627 - val_accuracy: 0.7200\n",
      "Epoch 13/20\n",
      "63/63 [==============================] - 2s 33ms/step - loss: 0.6187 - accuracy: 0.8351 - val_loss: 1.4935 - val_accuracy: 0.7320\n",
      "Epoch 14/20\n",
      "63/63 [==============================] - 2s 28ms/step - loss: 0.5854 - accuracy: 0.8375 - val_loss: 1.5379 - val_accuracy: 0.7190\n",
      "Epoch 15/20\n",
      "63/63 [==============================] - 2s 28ms/step - loss: 0.5592 - accuracy: 0.8435 - val_loss: 1.6007 - val_accuracy: 0.7280\n",
      "Epoch 16/20\n",
      "63/63 [==============================] - 2s 30ms/step - loss: 0.5366 - accuracy: 0.8484 - val_loss: 1.5873 - val_accuracy: 0.7290\n",
      "Epoch 17/20\n",
      "63/63 [==============================] - 2s 30ms/step - loss: 0.5143 - accuracy: 0.8553 - val_loss: 1.7417 - val_accuracy: 0.7240\n",
      "Epoch 18/20\n",
      "63/63 [==============================] - 2s 30ms/step - loss: 0.4975 - accuracy: 0.8612 - val_loss: 1.7780 - val_accuracy: 0.7200\n",
      "Epoch 19/20\n",
      "63/63 [==============================] - 2s 28ms/step - loss: 0.4768 - accuracy: 0.8681 - val_loss: 1.8156 - val_accuracy: 0.7200\n",
      "Epoch 20/20\n",
      "63/63 [==============================] - 2s 28ms/step - loss: 0.4628 - accuracy: 0.8712 - val_loss: 1.8304 - val_accuracy: 0.7180\n"
     ]
    },
    {
     "data": {
      "text/plain": [
       "<keras.callbacks.History at 0x7fa855e01810>"
      ]
     },
     "execution_count": 84,
     "metadata": {},
     "output_type": "execute_result"
    }
   ],
   "source": [
    "# A model with an information bottleneck\n",
    "    # what happens when you introduce an information bottleneck by having intermediate layers \n",
    "    # that are significantly less than 46-dimensional: for example, 4-dimensional\n",
    "model = models.Sequential()\n",
    "model.add(layers.Dense(64, activation='relu', input_shape=(10000,)))\n",
    "model.add(layers.Dense(4, activation='relu'))\n",
    "model.add(layers.Dense(46, activation='softmax'))\n",
    "model.compile(optimizer='rmsprop', loss='categorical_crossentropy', metrics=['accuracy'])\n",
    "model.fit(partial_x_train, partial_y_train, epochs=20, batch_size=128, validation_data=(x_val, y_val))\n",
    "# The network now peaks at ~71% validation accuracy, a 10% absolute drop. This drop\n",
    "    # is mostly due to the fact that you’re trying to compress a lot of information (enough\n",
    "    # information to recover the separation hyperplanes of 46 classes) into an intermediate\n",
    "    # space that is too low-dimensional. The network is able to cram most of the necessary\n",
    "    # information into these eight-dimensional representations, but not all of it."
   ]
  },
  {
   "cell_type": "markdown",
   "metadata": {},
   "source": [
    "## Predicting house prices: a regression example\n",
    "### The Boston Housing Price dataset"
   ]
  },
  {
   "cell_type": "code",
   "execution_count": 86,
   "metadata": {},
   "outputs": [
    {
     "name": "stdout",
     "output_type": "stream",
     "text": [
      "Downloading data from https://storage.googleapis.com/tensorflow/tf-keras-datasets/boston_housing.npz\n",
      "57344/57026 [==============================] - 0s 1us/step\n",
      "65536/57026 [==================================] - 0s 1us/step\n"
     ]
    }
   ],
   "source": [
    "# Boston Housing Price dataset: predict the median price of homes in a given Boston suburb in the\n",
    "    # mid-1970s, given data points about the suburb at the time, such as the crime rate, the\n",
    "    # local property tax rate, and so on\n",
    "# Loading the Boston housing dataset\n",
    "(train_data, train_targets), (test_data, test_targets) = boston_housing.load_data()"
   ]
  },
  {
   "cell_type": "code",
   "execution_count": 87,
   "metadata": {},
   "outputs": [
    {
     "data": {
      "text/plain": [
       "(404, 13)"
      ]
     },
     "execution_count": 87,
     "metadata": {},
     "output_type": "execute_result"
    }
   ],
   "source": [
    "train_data.shape"
   ]
  },
  {
   "cell_type": "code",
   "execution_count": 89,
   "metadata": {},
   "outputs": [
    {
     "data": {
      "text/plain": [
       "(102, 13)"
      ]
     },
     "execution_count": 89,
     "metadata": {},
     "output_type": "execute_result"
    }
   ],
   "source": [
    "test_data.shape"
   ]
  },
  {
   "cell_type": "code",
   "execution_count": 90,
   "metadata": {},
   "outputs": [
    {
     "data": {
      "text/plain": [
       "array([15.2, 42.3, 50. , 21.1, 17.7, 18.5, 11.3, 15.6, 15.6, 14.4, 12.1,\n",
       "       17.9, 23.1, 19.9, 15.7,  8.8, 50. , 22.5, 24.1, 27.5, 10.9, 30.8,\n",
       "       32.9, 24. , 18.5, 13.3, 22.9, 34.7, 16.6, 17.5, 22.3, 16.1, 14.9,\n",
       "       23.1, 34.9, 25. , 13.9, 13.1, 20.4, 20. , 15.2, 24.7, 22.2, 16.7,\n",
       "       12.7, 15.6, 18.4, 21. , 30.1, 15.1, 18.7,  9.6, 31.5, 24.8, 19.1,\n",
       "       22. , 14.5, 11. , 32. , 29.4, 20.3, 24.4, 14.6, 19.5, 14.1, 14.3,\n",
       "       15.6, 10.5,  6.3, 19.3, 19.3, 13.4, 36.4, 17.8, 13.5, 16.5,  8.3,\n",
       "       14.3, 16. , 13.4, 28.6, 43.5, 20.2, 22. , 23. , 20.7, 12.5, 48.5,\n",
       "       14.6, 13.4, 23.7, 50. , 21.7, 39.8, 38.7, 22.2, 34.9, 22.5, 31.1,\n",
       "       28.7, 46. , 41.7, 21. , 26.6, 15. , 24.4, 13.3, 21.2, 11.7, 21.7,\n",
       "       19.4, 50. , 22.8, 19.7, 24.7, 36.2, 14.2, 18.9, 18.3, 20.6, 24.6,\n",
       "       18.2,  8.7, 44. , 10.4, 13.2, 21.2, 37. , 30.7, 22.9, 20. , 19.3,\n",
       "       31.7, 32. , 23.1, 18.8, 10.9, 50. , 19.6,  5. , 14.4, 19.8, 13.8,\n",
       "       19.6, 23.9, 24.5, 25. , 19.9, 17.2, 24.6, 13.5, 26.6, 21.4, 11.9,\n",
       "       22.6, 19.6,  8.5, 23.7, 23.1, 22.4, 20.5, 23.6, 18.4, 35.2, 23.1,\n",
       "       27.9, 20.6, 23.7, 28. , 13.6, 27.1, 23.6, 20.6, 18.2, 21.7, 17.1,\n",
       "        8.4, 25.3, 13.8, 22.2, 18.4, 20.7, 31.6, 30.5, 20.3,  8.8, 19.2,\n",
       "       19.4, 23.1, 23. , 14.8, 48.8, 22.6, 33.4, 21.1, 13.6, 32.2, 13.1,\n",
       "       23.4, 18.9, 23.9, 11.8, 23.3, 22.8, 19.6, 16.7, 13.4, 22.2, 20.4,\n",
       "       21.8, 26.4, 14.9, 24.1, 23.8, 12.3, 29.1, 21. , 19.5, 23.3, 23.8,\n",
       "       17.8, 11.5, 21.7, 19.9, 25. , 33.4, 28.5, 21.4, 24.3, 27.5, 33.1,\n",
       "       16.2, 23.3, 48.3, 22.9, 22.8, 13.1, 12.7, 22.6, 15. , 15.3, 10.5,\n",
       "       24. , 18.5, 21.7, 19.5, 33.2, 23.2,  5. , 19.1, 12.7, 22.3, 10.2,\n",
       "       13.9, 16.3, 17. , 20.1, 29.9, 17.2, 37.3, 45.4, 17.8, 23.2, 29. ,\n",
       "       22. , 18. , 17.4, 34.6, 20.1, 25. , 15.6, 24.8, 28.2, 21.2, 21.4,\n",
       "       23.8, 31. , 26.2, 17.4, 37.9, 17.5, 20. ,  8.3, 23.9,  8.4, 13.8,\n",
       "        7.2, 11.7, 17.1, 21.6, 50. , 16.1, 20.4, 20.6, 21.4, 20.6, 36.5,\n",
       "        8.5, 24.8, 10.8, 21.9, 17.3, 18.9, 36.2, 14.9, 18.2, 33.3, 21.8,\n",
       "       19.7, 31.6, 24.8, 19.4, 22.8,  7.5, 44.8, 16.8, 18.7, 50. , 50. ,\n",
       "       19.5, 20.1, 50. , 17.2, 20.8, 19.3, 41.3, 20.4, 20.5, 13.8, 16.5,\n",
       "       23.9, 20.6, 31.5, 23.3, 16.8, 14. , 33.8, 36.1, 12.8, 18.3, 18.7,\n",
       "       19.1, 29. , 30.1, 50. , 50. , 22. , 11.9, 37.6, 50. , 22.7, 20.8,\n",
       "       23.5, 27.9, 50. , 19.3, 23.9, 22.6, 15.2, 21.7, 19.2, 43.8, 20.3,\n",
       "       33.2, 19.9, 22.5, 32.7, 22. , 17.1, 19. , 15. , 16.1, 25.1, 23.7,\n",
       "       28.7, 37.2, 22.6, 16.4, 25. , 29.8, 22.1, 17.4, 18.1, 30.3, 17.5,\n",
       "       24.7, 12.6, 26.5, 28.7, 13.3, 10.4, 24.4, 23. , 20. , 17.8,  7. ,\n",
       "       11.8, 24.4, 13.8, 19.4, 25.2, 19.4, 19.4, 29.1])"
      ]
     },
     "execution_count": 90,
     "metadata": {},
     "output_type": "execute_result"
    }
   ],
   "source": [
    "# prices are typically between $10,000 and $50,000\n",
    "train_targets"
   ]
  },
  {
   "cell_type": "code",
   "execution_count": 93,
   "metadata": {},
   "outputs": [],
   "source": [
    "# It would be problematic to feed into a neural network values that all take wildly different ranges\n",
    "# Normalizing the data\n",
    "mean = train_data.mean(axis=0)\n",
    "train_data -= mean\n",
    "std = train_data.std(axis=0)\n",
    "train_data /= std\n",
    "test_data -= mean\n",
    "test_data /= std"
   ]
  },
  {
   "cell_type": "code",
   "execution_count": 94,
   "metadata": {},
   "outputs": [],
   "source": [
    "# Model definition\n",
    "def build_model():\n",
    "    model = models.Sequential()\n",
    "    model.add(layers.Dense(64, activation='relu', input_shape=(train_data.shape[1],)))\n",
    "    model.add(layers.Dense(64, activation='relu'))\n",
    "    model.add(layers.Dense(1))\n",
    "    model.compile(optimizer='rmsprop', loss='mse', metrics=['mae'])\n",
    "    return model"
   ]
  },
  {
   "cell_type": "code",
   "execution_count": 95,
   "metadata": {},
   "outputs": [
    {
     "name": "stdout",
     "output_type": "stream",
     "text": [
      "processing fold # 0\n",
      "processing fold # 1\n",
      "processing fold # 2\n",
      "processing fold # 3\n"
     ]
    }
   ],
   "source": [
    "# K-fold validation\n",
    "k=4\n",
    "num_val_samples = len(train_data) // k\n",
    "num_epochs = 100\n",
    "all_scores = []\n",
    "for i in range(k):\n",
    "    print('processing fold #', i)\n",
    "    val_data = train_data[i * num_val_samples: (i + 1) * num_val_samples] # Prepares the validation data: data from partition #k\n",
    "    val_targets = train_targets[i * num_val_samples: (i + 1) * num_val_samples]\n",
    "    partial_train_data = np.concatenate([train_data[:i * num_val_samples],train_data[(i + 1) * num_val_samples:]],axis=0) # Prepares the training data: data from all other partitions\n",
    "    partial_train_targets = np.concatenate([train_targets[:i * num_val_samples],train_targets[(i + 1) * num_val_samples:]],axis=0)\n",
    "    model = build_model() # Builds the Keras model (already compiled)\n",
    "    model.fit(partial_train_data, partial_train_targets,epochs=num_epochs, batch_size=1, verbose=0) # Trains the model (in silent mode, verbose = 0)\n",
    "    val_mse, val_mae = model.evaluate(val_data, val_targets, verbose=0) # Evaluates the model on the validation data\n",
    "    all_scores.append(val_mae)"
   ]
  },
  {
   "cell_type": "code",
   "execution_count": 96,
   "metadata": {},
   "outputs": [
    {
     "data": {
      "text/plain": [
       "[2.071929454803467, 2.8327410221099854, 2.794664144515991, 2.6851916313171387]"
      ]
     },
     "execution_count": 96,
     "metadata": {},
     "output_type": "execute_result"
    }
   ],
   "source": [
    "all_scores\n",
    "# different runs do indeed show rather different validation scores, from 2.0 to 2.8.\n",
    "    # The average (2.6) is a much more reliable metric than any single score—that’s the\n",
    "    # entire point of K-fold cross-validation. In this case, you’re off by $2600 on average,\n",
    "    # which is significant considering that the prices range from $10,000 to $50,000."
   ]
  },
  {
   "cell_type": "code",
   "execution_count": 97,
   "metadata": {},
   "outputs": [
    {
     "data": {
      "text/plain": [
       "2.5961315631866455"
      ]
     },
     "execution_count": 97,
     "metadata": {},
     "output_type": "execute_result"
    }
   ],
   "source": [
    "np.mean(all_scores)"
   ]
  },
  {
   "cell_type": "code",
   "execution_count": 102,
   "metadata": {},
   "outputs": [
    {
     "name": "stdout",
     "output_type": "stream",
     "text": [
      "processing fold # 0\n",
      "processing fold # 1\n",
      "processing fold # 2\n",
      "processing fold # 3\n"
     ]
    }
   ],
   "source": [
    "# try training the network a bit longer: 500 epochs\n",
    "# Saving the validation logs at each fold\n",
    "num_epochs = 500\n",
    "all_mae_histories = []\n",
    "for i in range(k):\n",
    "    print('processing fold #', i)\n",
    "    val_data = train_data[i * num_val_samples: (i + 1) * num_val_samples] # Prepares the validation data: data from partition #k\n",
    "    val_targets = train_targets[i * num_val_samples: (i + 1) * num_val_samples]\n",
    "    partial_train_data = np.concatenate([train_data[:i * num_val_samples],train_data[(i + 1) * num_val_samples:]],axis=0) # # Prepares the training data: data from all other partitions\n",
    "    partial_train_targets = np.concatenate([train_targets[:i * num_val_samples],train_targets[(i + 1) * num_val_samples:]],axis=0)\n",
    "    model = build_model() # Builds the Keras model (already compiled)\n",
    "    history = model.fit(partial_train_data, partial_train_targets,validation_data=(val_data, val_targets),epochs=num_epochs, batch_size=1, verbose=0) # Trains the model (in silent mode, verbose = 0)\n",
    "    mae_history = history.history['val_mae']\n",
    "    all_mae_histories.append(mae_history)"
   ]
  },
  {
   "cell_type": "code",
   "execution_count": 103,
   "metadata": {},
   "outputs": [
    {
     "data": {
      "text/plain": [
       "dict_keys(['loss', 'mae', 'val_loss', 'val_mae'])"
      ]
     },
     "execution_count": 103,
     "metadata": {},
     "output_type": "execute_result"
    }
   ],
   "source": [
    "# the call to model.fit() returns a History object. This object has a member history, \n",
    "    # which is a dictionary containing data about everything that happened during training\n",
    "history_dict = history.history\n",
    "history_dict.keys()"
   ]
  },
  {
   "cell_type": "code",
   "execution_count": 104,
   "metadata": {},
   "outputs": [],
   "source": [
    "# Building the history of successive mean K-fold validation scores\n",
    "average_mae_history = [np.mean([x[i] for x in all_mae_histories]) for i in range(num_epochs)]"
   ]
  },
  {
   "cell_type": "code",
   "execution_count": 105,
   "metadata": {},
   "outputs": [
    {
     "data": {
      "image/png": "[encoded data removed]",
      "text/plain": [
       "<Figure size 432x288 with 1 Axes>"
      ]
     },
     "metadata": {
      "needs_background": "light"
     },
     "output_type": "display_data"
    }
   ],
   "source": [
    "# Plotting validation scores\n",
    "plt.plot(range(1, len(average_mae_history) + 1), average_mae_history)\n",
    "plt.xlabel('Epochs')\n",
    "plt.ylabel('Validation MAE')\n",
    "plt.show()"
   ]
  },
  {
   "cell_type": "code",
   "execution_count": 106,
   "metadata": {},
   "outputs": [
    {
     "data": {
      "image/png": "[encoded data removed]",
      "text/plain": [
       "<Figure size 432x288 with 1 Axes>"
      ]
     },
     "metadata": {
      "needs_background": "light"
     },
     "output_type": "display_data"
    }
   ],
   "source": [
    "# Plotting validation scores, excluding the first 10 data points\n",
    "def smooth_curve(points, factor=0.9):\n",
    "    smoothed_points = []\n",
    "    for point in points:\n",
    "        if smoothed_points:\n",
    "            previous = smoothed_points[-1]\n",
    "            smoothed_points.append(previous * factor + point * (1 - factor))\n",
    "        else:\n",
    "            smoothed_points.append(point)\n",
    "    return smoothed_points\n",
    "smooth_mae_history = smooth_curve(average_mae_history[10:])\n",
    "plt.plot(range(1, len(smooth_mae_history) + 1), smooth_mae_history)\n",
    "plt.xlabel('Epochs')\n",
    "plt.ylabel('Validation MAE')\n",
    "plt.show()"
   ]
  },
  {
   "cell_type": "code",
   "execution_count": 107,
   "metadata": {},
   "outputs": [
    {
     "name": "stdout",
     "output_type": "stream",
     "text": [
      "4/4 [==============================] - 0s 6ms/step - loss: 18.7271 - mae: 2.9375\n"
     ]
    }
   ],
   "source": [
    "# Training the final model\n",
    "model = build_model() # Gets a fresh, compiled model\n",
    "model.fit(train_data, train_targets,epochs=80, batch_size=16, verbose=0) # Trains it on the entirety of the data\n",
    "test_mse_score, test_mae_score = model.evaluate(test_data, test_targets)"
   ]
  },
  {
   "cell_type": "code",
   "execution_count": 108,
   "metadata": {},
   "outputs": [
    {
     "data": {
      "text/plain": [
       "2.93747615814209"
      ]
     },
     "execution_count": 108,
     "metadata": {},
     "output_type": "execute_result"
    }
   ],
   "source": [
    "test_mae_score"
   ]
  }
 ],
 "metadata": {
  "interpreter": {
   "hash": "066093cf3c399d5c30a34c1d2f9e18e8fdd115ea2f01c01bdea7f7d18ba600a2"
  },
  "kernelspec": {
   "display_name": "Python 3.7.4 ('venv': venv)",
   "language": "python",
   "name": "python3"
  },
  "language_info": {
   "codemirror_mode": {
    "name": "ipython",
    "version": 3
   },
   "file_extension": ".py",
   "mimetype": "text/x-python",
   "name": "python",
   "nbconvert_exporter": "python",
   "pygments_lexer": "ipython3",
   "version": "3.7.4"
  },
  "orig_nbformat": 4
 },
 "nbformat": 4,
 "nbformat_minor": 2
}
