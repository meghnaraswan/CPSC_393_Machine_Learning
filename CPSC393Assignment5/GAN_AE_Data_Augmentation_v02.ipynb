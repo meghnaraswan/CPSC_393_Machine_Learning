{
 "cells": [
  {
   "cell_type": "markdown",
   "metadata": {},
   "source": [
    "# Assignment 5 - GANs and VAEs for Data Augmentation"
   ]
  },
  {
   "cell_type": "markdown",
   "metadata": {},
   "source": [
    "### [Conditional Generative Adversarial Networks (GANs)](https://keras.io/examples/generative/conditional_gan/)"
   ]
  },
  {
   "cell_type": "code",
   "execution_count": 2,
   "metadata": {},
   "outputs": [],
   "source": [
    "# imports\n",
    "from tensorflow import keras\n",
    "from tensorflow.keras import layers\n",
    "from tensorflow_docs.vis import embed\n",
    "import matplotlib.pyplot as plt\n",
    "import tensorflow as tf\n",
    "import numpy as np\n",
    "import imageio"
   ]
  },
  {
   "cell_type": "code",
   "execution_count": 3,
   "metadata": {},
   "outputs": [],
   "source": [
    "# contants and hyperparameters\n",
    "batch_size = 64\n",
    "num_channels = 1\n",
    "num_classes = 10\n",
    "image_size = 28\n",
    "latent_dim = 128"
   ]
  },
  {
   "cell_type": "code",
   "execution_count": 4,
   "metadata": {},
   "outputs": [
    {
     "name": "stdout",
     "output_type": "stream",
     "text": [
      "Downloading data from https://storage.googleapis.com/tensorflow/tf-keras-datasets/mnist.npz\n",
      "11493376/11490434 [==============================] - 1s 0us/step\n",
      "11501568/11490434 [==============================] - 1s 0us/step\n",
      "Shape of training images: (70000, 28, 28, 1)\n",
      "Shape of training labels: (70000, 10)\n"
     ]
    }
   ],
   "source": [
    "# Loading the MNIST dataset and preprocessing it\n",
    "# We'll use all the available examples from both the training and test sets\n",
    "(x_train, y_train), (x_test, y_test) = keras.datasets.mnist.load_data()\n",
    "all_digits = np.concatenate([x_train, x_test])\n",
    "all_labels = np.concatenate([y_train, y_test])\n",
    "\n",
    "# Scale the pixel values to [0, 1] range, add a channel dimension to the images, and one-hot encode the labels\n",
    "all_digits = all_digits.astype(\"float32\") / 255.0\n",
    "all_digits = np.reshape(all_digits, (-1, 28, 28, 1))\n",
    "all_labels = keras.utils.to_categorical(all_labels, 10)\n",
    "\n",
    "# Create tf.data.Dataset\n",
    "dataset = tf.data.Dataset.from_tensor_slices((all_digits, all_labels))\n",
    "dataset = dataset.shuffle(buffer_size=1024).batch(batch_size)\n",
    "\n",
    "print(f\"Shape of training images: {all_digits.shape}\")\n",
    "print(f\"Shape of training labels: {all_labels.shape}\")"
   ]
  },
  {
   "cell_type": "code",
   "execution_count": 5,
   "metadata": {},
   "outputs": [
    {
     "name": "stdout",
     "output_type": "stream",
     "text": [
      "Generator in channels:  138\n",
      "Discriminator in channels:  11\n"
     ]
    }
   ],
   "source": [
    "# Calculating the number of input channel for the generator and discriminator\n",
    "# In a regular (unconditional) GAN, we start by sampling noise (of some fixed dimension) from a normal distribution\n",
    "# In our case, (conditional GAN), we also need to account for the class labels\n",
    "# We will have to add the number of classes to the input channels of the generator (noise input) as well as the discriminator (generated image input)\n",
    "generator_in_channels = latent_dim + num_classes\n",
    "discriminator_in_channels = num_channels + num_classes\n",
    "print(\"Generator in channels: \", generator_in_channels)\n",
    "print(\"Discriminator in channels: \", discriminator_in_channels)"
   ]
  },
  {
   "cell_type": "code",
   "execution_count": 6,
   "metadata": {},
   "outputs": [],
   "source": [
    "# Creating the discriminator and generator\n",
    "# Create the discriminator.\n",
    "discriminator = keras.Sequential(\n",
    "    [\n",
    "        keras.layers.InputLayer((28, 28, discriminator_in_channels)),\n",
    "        layers.Conv2D(64, (3, 3), strides=(2, 2), padding=\"same\"),\n",
    "        layers.LeakyReLU(alpha=0.2),\n",
    "        layers.Conv2D(128, (3, 3), strides=(2, 2), padding=\"same\"),\n",
    "        layers.LeakyReLU(alpha=0.2),\n",
    "        layers.GlobalMaxPooling2D(),\n",
    "        layers.Dense(1),\n",
    "    ],\n",
    "    name=\"discriminator\",\n",
    ")\n",
    "\n",
    "# Create the generator.\n",
    "generator = keras.Sequential(\n",
    "    [\n",
    "        keras.layers.InputLayer((generator_in_channels,)),\n",
    "        # We want to generate 128 + num_classes coefficients to reshape into a\n",
    "        # 7x7x(128 + num_classes) map.\n",
    "        layers.Dense(7 * 7 * generator_in_channels),\n",
    "        layers.LeakyReLU(alpha=0.2),\n",
    "        layers.Reshape((7, 7, generator_in_channels)),\n",
    "        layers.Conv2DTranspose(128, (4, 4), strides=(2, 2), padding=\"same\"),\n",
    "        layers.LeakyReLU(alpha=0.2),\n",
    "        layers.Conv2DTranspose(128, (4, 4), strides=(2, 2), padding=\"same\"),\n",
    "        layers.LeakyReLU(alpha=0.2),\n",
    "        layers.Conv2D(1, (7, 7), padding=\"same\", activation=\"sigmoid\"),\n",
    "    ],\n",
    "    name=\"generator\",\n",
    ")"
   ]
  },
  {
   "cell_type": "code",
   "execution_count": 8,
   "metadata": {},
   "outputs": [],
   "source": [
    "# Creating a ConditionalGAN model\n",
    "class ConditionalGAN(keras.Model):\n",
    "    def __init__(self, discriminator, generator, latent_dim):\n",
    "        super(ConditionalGAN, self).__init__()\n",
    "        self.discriminator = discriminator\n",
    "        self.generator = generator\n",
    "        self.latent_dim = latent_dim\n",
    "        self.gen_loss_tracker = keras.metrics.Mean(name=\"generator_loss\")\n",
    "        self.disc_loss_tracker = keras.metrics.Mean(name=\"discriminator_loss\")\n",
    "\n",
    "    @property\n",
    "    def metrics(self):\n",
    "        return [self.gen_loss_tracker, self.disc_loss_tracker]\n",
    "\n",
    "    def compile(self, d_optimizer, g_optimizer, loss_fn):\n",
    "        super(ConditionalGAN, self).compile()\n",
    "        self.d_optimizer = d_optimizer\n",
    "        self.g_optimizer = g_optimizer\n",
    "        self.loss_fn = loss_fn\n",
    "\n",
    "    def train_step(self, data):\n",
    "        # Unpack the data.\n",
    "        real_images, one_hot_labels = data\n",
    "\n",
    "        # Add dummy dimensions to the labels so that they can be concatenated with\n",
    "        # the images. This is for the discriminator.\n",
    "        image_one_hot_labels = one_hot_labels[:, :, None, None]\n",
    "        image_one_hot_labels = tf.repeat(\n",
    "            image_one_hot_labels, repeats=[image_size * image_size]\n",
    "        )\n",
    "        image_one_hot_labels = tf.reshape(\n",
    "            image_one_hot_labels, (-1, image_size, image_size, num_classes)\n",
    "        )\n",
    "\n",
    "        # Sample random points in the latent space and concatenate the labels.\n",
    "        # This is for the generator.\n",
    "        batch_size = tf.shape(real_images)[0]\n",
    "        random_latent_vectors = tf.random.normal(shape=(batch_size, self.latent_dim))\n",
    "        random_vector_labels = tf.concat(\n",
    "            [random_latent_vectors, one_hot_labels], axis=1\n",
    "        )\n",
    "\n",
    "        # Decode the noise (guided by labels) to fake images.\n",
    "        generated_images = self.generator(random_vector_labels)\n",
    "\n",
    "        # Combine them with real images. Note that we are concatenating the labels\n",
    "        # with these images here.\n",
    "        fake_image_and_labels = tf.concat([generated_images, image_one_hot_labels], -1)\n",
    "        real_image_and_labels = tf.concat([real_images, image_one_hot_labels], -1)\n",
    "        combined_images = tf.concat(\n",
    "            [fake_image_and_labels, real_image_and_labels], axis=0\n",
    "        )\n",
    "\n",
    "        # Assemble labels discriminating real from fake images.\n",
    "        labels = tf.concat(\n",
    "            [tf.ones((batch_size, 1)), tf.zeros((batch_size, 1))], axis=0\n",
    "        )\n",
    "\n",
    "        # Train the discriminator.\n",
    "        with tf.GradientTape() as tape:\n",
    "            predictions = self.discriminator(combined_images)\n",
    "            d_loss = self.loss_fn(labels, predictions)\n",
    "        grads = tape.gradient(d_loss, self.discriminator.trainable_weights)\n",
    "        self.d_optimizer.apply_gradients(\n",
    "            zip(grads, self.discriminator.trainable_weights)\n",
    "        )\n",
    "\n",
    "        # Sample random points in the latent space.\n",
    "        random_latent_vectors = tf.random.normal(shape=(batch_size, self.latent_dim))\n",
    "        random_vector_labels = tf.concat(\n",
    "            [random_latent_vectors, one_hot_labels], axis=1\n",
    "        )\n",
    "\n",
    "        # Assemble labels that say \"all real images\".\n",
    "        misleading_labels = tf.zeros((batch_size, 1))\n",
    "\n",
    "        # Train the generator (note that we should *not* update the weights\n",
    "        # of the discriminator)!\n",
    "        with tf.GradientTape() as tape:\n",
    "            fake_images = self.generator(random_vector_labels)\n",
    "            fake_image_and_labels = tf.concat([fake_images, image_one_hot_labels], -1)\n",
    "            predictions = self.discriminator(fake_image_and_labels)\n",
    "            g_loss = self.loss_fn(misleading_labels, predictions)\n",
    "        grads = tape.gradient(g_loss, self.generator.trainable_weights)\n",
    "        self.g_optimizer.apply_gradients(zip(grads, self.generator.trainable_weights))\n",
    "\n",
    "        # Monitor loss.\n",
    "        self.gen_loss_tracker.update_state(g_loss)\n",
    "        self.disc_loss_tracker.update_state(d_loss)\n",
    "        return {\n",
    "            \"g_loss\": self.gen_loss_tracker.result(),\n",
    "            \"d_loss\": self.disc_loss_tracker.result(),\n",
    "        }"
   ]
  },
  {
   "cell_type": "code",
   "execution_count": 9,
   "metadata": {},
   "outputs": [
    {
     "name": "stdout",
     "output_type": "stream",
     "text": [
      "Epoch 1/20\n",
      "1094/1094 [==============================] - 950s 866ms/step - g_loss: 1.5757 - d_loss: 0.4204\n",
      "Epoch 2/20\n",
      "1094/1094 [==============================] - 951s 869ms/step - g_loss: 1.2776 - d_loss: 0.4886\n",
      "Epoch 3/20\n",
      "1094/1094 [==============================] - 928s 848ms/step - g_loss: 1.5587 - d_loss: 0.3958\n",
      "Epoch 4/20\n",
      "1094/1094 [==============================] - 931s 851ms/step - g_loss: 2.3260 - d_loss: 0.1978\n",
      "Epoch 5/20\n",
      "1094/1094 [==============================] - 949s 867ms/step - g_loss: 1.1429 - d_loss: 0.5997\n",
      "Epoch 6/20\n",
      "1094/1094 [==============================] - 962s 879ms/step - g_loss: 0.9651 - d_loss: 0.6255\n",
      "Epoch 7/20\n",
      "1094/1094 [==============================] - 889s 813ms/step - g_loss: 0.8912 - d_loss: 0.6428\n",
      "Epoch 8/20\n",
      "1094/1094 [==============================] - 831s 759ms/step - g_loss: 0.8685 - d_loss: 0.6406\n",
      "Epoch 9/20\n",
      "1094/1094 [==============================] - 834s 762ms/step - g_loss: 0.8420 - d_loss: 0.6571\n",
      "Epoch 10/20\n",
      "1094/1094 [==============================] - 834s 762ms/step - g_loss: 0.7977 - d_loss: 0.6663\n",
      "Epoch 11/20\n",
      "1094/1094 [==============================] - 834s 762ms/step - g_loss: 0.7840 - d_loss: 0.6755\n",
      "Epoch 12/20\n",
      "1094/1094 [==============================] - 836s 764ms/step - g_loss: 0.7833 - d_loss: 0.6776\n",
      "Epoch 13/20\n",
      "1094/1094 [==============================] - 834s 762ms/step - g_loss: 0.7547 - d_loss: 0.6828\n",
      "Epoch 14/20\n",
      "1094/1094 [==============================] - 835s 763ms/step - g_loss: 0.7476 - d_loss: 0.6887\n",
      "Epoch 15/20\n",
      "1094/1094 [==============================] - 834s 763ms/step - g_loss: 0.7496 - d_loss: 0.6816\n",
      "Epoch 16/20\n",
      "1094/1094 [==============================] - 836s 765ms/step - g_loss: 0.7624 - d_loss: 0.6730\n",
      "Epoch 17/20\n",
      "1094/1094 [==============================] - 834s 762ms/step - g_loss: 0.7621 - d_loss: 0.6702\n",
      "Epoch 18/20\n",
      "1094/1094 [==============================] - 835s 763ms/step - g_loss: 0.7665 - d_loss: 0.6753\n",
      "Epoch 19/20\n",
      "1094/1094 [==============================] - 834s 762ms/step - g_loss: 0.7768 - d_loss: 0.6621\n",
      "Epoch 20/20\n",
      "1094/1094 [==============================] - 838s 766ms/step - g_loss: 0.7813 - d_loss: 0.6583\n"
     ]
    },
    {
     "data": {
      "text/plain": [
       "<keras.callbacks.History at 0x28124a223a0>"
      ]
     },
     "execution_count": 9,
     "metadata": {},
     "output_type": "execute_result"
    }
   ],
   "source": [
    "# Training the Conditional GAN\n",
    "cond_gan = ConditionalGAN(\n",
    "    discriminator=discriminator, generator=generator, latent_dim=latent_dim\n",
    ")\n",
    "cond_gan.compile(\n",
    "    d_optimizer=keras.optimizers.Adam(learning_rate=0.0003),\n",
    "    g_optimizer=keras.optimizers.Adam(learning_rate=0.0003),\n",
    "    loss_fn=keras.losses.BinaryCrossentropy(from_logits=True),\n",
    ")\n",
    "\n",
    "cond_gan.fit(dataset, epochs=20)"
   ]
  },
  {
   "cell_type": "code",
   "execution_count": 10,
   "metadata": {},
   "outputs": [],
   "source": [
    "# Interpolating between classes with the trained generator\n",
    "# We first extract the trained generator from our Conditiona GAN.\n",
    "trained_gen = cond_gan.generator\n",
    "\n",
    "# Choose the number of intermediate images that would be generated in\n",
    "# between the interpolation + 2 (start and last images).\n",
    "num_interpolation = 9  # @param {type:\"integer\"}\n",
    "\n",
    "# Sample noise for the interpolation.\n",
    "interpolation_noise = tf.random.normal(shape=(1, latent_dim))\n",
    "interpolation_noise = tf.repeat(interpolation_noise, repeats=num_interpolation)\n",
    "interpolation_noise = tf.reshape(interpolation_noise, (num_interpolation, latent_dim))\n",
    "\n",
    "\n",
    "def interpolate_class(first_number, second_number):\n",
    "    # Convert the start and end labels to one-hot encoded vectors.\n",
    "    first_label = keras.utils.to_categorical([first_number], num_classes)\n",
    "    second_label = keras.utils.to_categorical([second_number], num_classes)\n",
    "    first_label = tf.cast(first_label, tf.float32)\n",
    "    second_label = tf.cast(second_label, tf.float32)\n",
    "\n",
    "    # Calculate the interpolation vector between the two labels.\n",
    "    percent_second_label = tf.linspace(0, 1, num_interpolation)[:, None]\n",
    "    percent_second_label = tf.cast(percent_second_label, tf.float32)\n",
    "    interpolation_labels = (\n",
    "        first_label * (1 - percent_second_label) + second_label * percent_second_label\n",
    "    )\n",
    "\n",
    "    # Combine the noise and the labels and run inference with the generator.\n",
    "    noise_and_labels = tf.concat([interpolation_noise, interpolation_labels], 1)\n",
    "    fake = trained_gen.predict(noise_and_labels)\n",
    "    return fake\n",
    "\n",
    "\n",
    "start_class = 1  # @param {type:\"slider\", min:0, max:9, step:1}\n",
    "end_class = 5  # @param {type:\"slider\", min:0, max:9, step:1}\n",
    "\n",
    "fake_images = interpolate_class(start_class, end_class)"
   ]
  },
  {
   "cell_type": "code",
   "execution_count": 11,
   "metadata": {},
   "outputs": [
    {
     "data": {
      "text/html": [
       "<img src=\"data:image/gif;base64,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\"/>"
      ],
      "text/plain": [
       "<IPython.core.display.HTML object>"
      ]
     },
     "execution_count": 11,
     "metadata": {},
     "output_type": "execute_result"
    }
   ],
   "source": [
    "# first sample noise from a normal distribution and then repeat that for num_interpolation times and reshape the result accordingly\n",
    "# then distribute it uniformly for num_interpolation with the label indentities being present in some proportion\n",
    "fake_images *= 255.0\n",
    "converted_images = fake_images.astype(np.uint8)\n",
    "converted_images = tf.image.resize(converted_images, (96, 96)).numpy().astype(np.uint8)\n",
    "imageio.mimsave(\"animation.gif\", converted_images, fps=1)\n",
    "embed.embed_file(\"animation.gif\")"
   ]
  }
 ],
 "metadata": {
  "interpreter": {
   "hash": "aee8b7b246df8f9039afb4144a1f6fd8d2ca17a180786b69acc140d282b71a49"
  },
  "kernelspec": {
   "display_name": "Python 3.7.4 64-bit",
   "language": "python",
   "name": "python3"
  },
  "language_info": {
   "codemirror_mode": {
    "name": "ipython",
    "version": 3
   },
   "file_extension": ".py",
   "mimetype": "text/x-python",
   "name": "python",
   "nbconvert_exporter": "python",
   "pygments_lexer": "ipython3",
   "version": "3.9.2"
  },
  "orig_nbformat": 4
 },
 "nbformat": 4,
 "nbformat_minor": 2
}
